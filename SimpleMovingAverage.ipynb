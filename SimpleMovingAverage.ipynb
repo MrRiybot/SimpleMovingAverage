{
 "cells": [
  {
   "cell_type": "code",
   "execution_count": 97,
   "metadata": {},
   "outputs": [],
   "source": [
    "import pandas as pd\n",
    "import numpy as np\n",
    "import matplotlib.pyplot as plt"
   ]
  },
  {
   "cell_type": "code",
   "execution_count": 98,
   "metadata": {},
   "outputs": [],
   "source": [
    "global_avg = pd.read_csv(\"global.csv\")\n",
    "local_avg = pd.read_csv(\"local.csv\")"
   ]
  },
  {
   "cell_type": "code",
   "execution_count": 99,
   "metadata": {},
   "outputs": [],
   "source": [
    "local_avg = local_avg.dropna() #Clearing NULLs"
   ]
  },
  {
   "cell_type": "code",
   "execution_count": 100,
   "metadata": {},
   "outputs": [],
   "source": [
    "# for loop to equalize the two tabels\n",
    "for i in global_avg.index:\n",
    "    if global_avg.at[i,\"year\"] < 1843:\n",
    "        global_avg.drop(i,inplace = True)"
   ]
  },
  {
   "cell_type": "code",
   "execution_count": 101,
   "metadata": {},
   "outputs": [
    {
     "data": {
      "text/html": [
       "<div>\n",
       "<style scoped>\n",
       "    .dataframe tbody tr th:only-of-type {\n",
       "        vertical-align: middle;\n",
       "    }\n",
       "\n",
       "    .dataframe tbody tr th {\n",
       "        vertical-align: top;\n",
       "    }\n",
       "\n",
       "    .dataframe thead th {\n",
       "        text-align: right;\n",
       "    }\n",
       "</style>\n",
       "<table border=\"1\" class=\"dataframe\">\n",
       "  <thead>\n",
       "    <tr style=\"text-align: right;\">\n",
       "      <th></th>\n",
       "      <th>year</th>\n",
       "      <th>city</th>\n",
       "      <th>country</th>\n",
       "      <th>avg_temp</th>\n",
       "    </tr>\n",
       "  </thead>\n",
       "  <tbody>\n",
       "    <tr>\n",
       "      <th>0</th>\n",
       "      <td>1843</td>\n",
       "      <td>Riyadh</td>\n",
       "      <td>Saudi Arabia</td>\n",
       "      <td>24.74</td>\n",
       "    </tr>\n",
       "    <tr>\n",
       "      <th>1</th>\n",
       "      <td>1844</td>\n",
       "      <td>Riyadh</td>\n",
       "      <td>Saudi Arabia</td>\n",
       "      <td>15.45</td>\n",
       "    </tr>\n",
       "    <tr>\n",
       "      <th>2</th>\n",
       "      <td>1845</td>\n",
       "      <td>Riyadh</td>\n",
       "      <td>Saudi Arabia</td>\n",
       "      <td>20.82</td>\n",
       "    </tr>\n",
       "    <tr>\n",
       "      <th>5</th>\n",
       "      <td>1848</td>\n",
       "      <td>Riyadh</td>\n",
       "      <td>Saudi Arabia</td>\n",
       "      <td>24.56</td>\n",
       "    </tr>\n",
       "    <tr>\n",
       "      <th>6</th>\n",
       "      <td>1849</td>\n",
       "      <td>Riyadh</td>\n",
       "      <td>Saudi Arabia</td>\n",
       "      <td>24.80</td>\n",
       "    </tr>\n",
       "    <tr>\n",
       "      <th>...</th>\n",
       "      <td>...</td>\n",
       "      <td>...</td>\n",
       "      <td>...</td>\n",
       "      <td>...</td>\n",
       "    </tr>\n",
       "    <tr>\n",
       "      <th>166</th>\n",
       "      <td>2009</td>\n",
       "      <td>Riyadh</td>\n",
       "      <td>Saudi Arabia</td>\n",
       "      <td>26.71</td>\n",
       "    </tr>\n",
       "    <tr>\n",
       "      <th>167</th>\n",
       "      <td>2010</td>\n",
       "      <td>Riyadh</td>\n",
       "      <td>Saudi Arabia</td>\n",
       "      <td>27.37</td>\n",
       "    </tr>\n",
       "    <tr>\n",
       "      <th>168</th>\n",
       "      <td>2011</td>\n",
       "      <td>Riyadh</td>\n",
       "      <td>Saudi Arabia</td>\n",
       "      <td>26.40</td>\n",
       "    </tr>\n",
       "    <tr>\n",
       "      <th>169</th>\n",
       "      <td>2012</td>\n",
       "      <td>Riyadh</td>\n",
       "      <td>Saudi Arabia</td>\n",
       "      <td>26.83</td>\n",
       "    </tr>\n",
       "    <tr>\n",
       "      <th>170</th>\n",
       "      <td>2013</td>\n",
       "      <td>Riyadh</td>\n",
       "      <td>Saudi Arabia</td>\n",
       "      <td>27.78</td>\n",
       "    </tr>\n",
       "  </tbody>\n",
       "</table>\n",
       "<p>169 rows × 4 columns</p>\n",
       "</div>"
      ],
      "text/plain": [
       "     year    city       country  avg_temp\n",
       "0    1843  Riyadh  Saudi Arabia     24.74\n",
       "1    1844  Riyadh  Saudi Arabia     15.45\n",
       "2    1845  Riyadh  Saudi Arabia     20.82\n",
       "5    1848  Riyadh  Saudi Arabia     24.56\n",
       "6    1849  Riyadh  Saudi Arabia     24.80\n",
       "..    ...     ...           ...       ...\n",
       "166  2009  Riyadh  Saudi Arabia     26.71\n",
       "167  2010  Riyadh  Saudi Arabia     27.37\n",
       "168  2011  Riyadh  Saudi Arabia     26.40\n",
       "169  2012  Riyadh  Saudi Arabia     26.83\n",
       "170  2013  Riyadh  Saudi Arabia     27.78\n",
       "\n",
       "[169 rows x 4 columns]"
      ]
     },
     "execution_count": 101,
     "metadata": {},
     "output_type": "execute_result"
    }
   ],
   "source": [
    "local_avg\n",
    "#if we look at index 1 there is a fall in avg_temp, we think the it is outlier data\n",
    "# we will clear it when we use the formula"
   ]
  },
  {
   "cell_type": "code",
   "execution_count": 102,
   "metadata": {},
   "outputs": [
    {
     "data": {
      "image/png": "[encoded data removed]",
      "text/plain": [
       "<Figure size 432x288 with 1 Axes>"
      ]
     },
     "metadata": {
      "needs_background": "light"
     },
     "output_type": "display_data"
    }
   ],
   "source": [
    "plt.plot(global_avg['year'], global_avg['avg_temp'], label = 'global')\n",
    "plt.plot(local_avg['year'], local_avg['avg_temp'], label = 'local')\n",
    "plt.show()\n",
    "# a look for the plots without using Simple Moving Average Calculation"
   ]
  },
  {
   "cell_type": "code",
   "execution_count": null,
   "metadata": {},
   "outputs": [],
   "source": [
    "# resetting the index to 0 \n",
    "global_avg = global_avg.reset_index(drop=True)\n",
    "local_avg = local_avg.reset_index(drop=True)"
   ]
  },
  {
   "cell_type": "markdown",
   "metadata": {},
   "source": [
    "# Simple Moving Average\n",
    "$$ \\frac{SMA=\\ \\ (x_y+x_{y-1}+\\ldots+x_{y-n-1})}{n} $$\n",
    "### x = the year\n",
    "### y = the index of the year \n",
    "### n = the number of years in period $$"
   ]
  },
  {
   "cell_type": "code",
   "execution_count": 109,
   "metadata": {},
   "outputs": [],
   "source": [
    "sma_global_temp = [] \n",
    "sma_global_year = []\n",
    "for i in global_avg.index[5:]: # 5: to clear the outlier , also to make sure the formula work\n",
    "    sma_value = 0\n",
    "    for j in range(4):\n",
    "        sma_value += global_avg.at[i-j, 'avg_temp'] # sma formula\n",
    "    sma_value /= 4\n",
    "    sma_global_temp.append(sma_value) # appending values\n",
    "    sma_global_year.append(global_avg.at[i,\"year\"]) # appending values\n",
    "sma_local_temp = []\n",
    "sma_local_year = []\n",
    "for i in local_avg.index[5:]:\n",
    "    sma_value = 0\n",
    "    for j in range(4):\n",
    "        sma_value += local_avg.at[i-j, 'avg_temp']\n",
    "    sma_value /= 4\n",
    "    sma_local_temp.append(sma_value)\n",
    "    sma_local_year.append(local_avg.at[i,\"year\"])"
   ]
  },
  {
   "cell_type": "code",
   "execution_count": 110,
   "metadata": {},
   "outputs": [
    {
     "data": {
      "image/png": "[encoded data removed]",
      "text/plain": [
       "<Figure size 432x288 with 1 Axes>"
      ]
     },
     "metadata": {
      "needs_background": "light"
     },
     "output_type": "display_data"
    }
   ],
   "source": [
    "plt.plot(sma_global_year, sma_global_temp, label='global')\n",
    "plt.plot(sma_local_year,  sma_local_temp, label='local')\n",
    "plt.xlabel('years')\n",
    "plt.ylabel('sma temp')\n",
    "plt.title(\"Explore Weather Trends\")\n",
    "plt.legend()\n",
    "plt.show()\n",
    "#showing the sma line graph"
   ]
  }
 ],
 "metadata": {
  "kernelspec": {
   "display_name": "Python 3",
   "language": "python",
   "name": "python3"
  },
  "language_info": {
   "codemirror_mode": {
    "name": "ipython",
    "version": 3
   },
   "file_extension": ".py",
   "mimetype": "text/x-python",
   "name": "python",
   "nbconvert_exporter": "python",
   "pygments_lexer": "ipython3",
   "version": "3.7.6"
  }
 },
 "nbformat": 4,
 "nbformat_minor": 2
}
